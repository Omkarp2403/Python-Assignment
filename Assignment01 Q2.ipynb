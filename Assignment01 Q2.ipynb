{
 "cells": [
  {
   "cell_type": "markdown",
   "id": "1f89a445",
   "metadata": {},
   "source": [
    " Write a Python program that accepts a word from the user and reverse it.\n",
    "Sample Test Case\n",
    "Input : Edyoda\n",
    "output: adoydE\n",
    "\n"
   ]
  },
  {
   "cell_type": "code",
   "execution_count": 1,
   "id": "1b5d8361",
   "metadata": {},
   "outputs": [
    {
     "name": "stdout",
     "output_type": "stream",
     "text": [
      "Input a word to reverse: Edyoda\n",
      "Reverse Order : adoydE\n"
     ]
    }
   ],
   "source": [
    "word = input(\"Input a word to reverse: \")\n",
    "\n",
    "print(\"Reverse Order :\", word[::-1])"
   ]
  },
  {
   "cell_type": "code",
   "execution_count": null,
   "id": "c7336f53",
   "metadata": {},
   "outputs": [],
   "source": []
  }
 ],
 "metadata": {
  "kernelspec": {
   "display_name": "Python 3 (ipykernel)",
   "language": "python",
   "name": "python3"
  },
  "language_info": {
   "codemirror_mode": {
    "name": "ipython",
    "version": 3
   },
   "file_extension": ".py",
   "mimetype": "text/x-python",
   "name": "python",
   "nbconvert_exporter": "python",
   "pygments_lexer": "ipython3",
   "version": "3.9.7"
  }
 },
 "nbformat": 4,
 "nbformat_minor": 5
}