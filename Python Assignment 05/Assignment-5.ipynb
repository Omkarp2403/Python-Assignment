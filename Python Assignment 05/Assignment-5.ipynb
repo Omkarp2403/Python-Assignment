{
 "cells": [
  {
   "cell_type": "code",
   "execution_count": null,
   "id": "73ae3cb6",
   "metadata": {},
   "outputs": [],
   "source": [
    "Write a Python class to implement pow(x, n)\n",
    "Explanation:\n",
    "Use should be able to find the nth power of the x.(i.e x*x*x*x...n times)\n",
    "You must implement it using Class\n",
    "Sample Input:\n",
    "x: 10\n",
    "n: 2\n",
    "Sample Output:\n",
    "100"
   ]
  },
  {
   "cell_type": "code",
   "execution_count": 31,
   "id": "266099c3",
   "metadata": {},
   "outputs": [],
   "source": [
    "class Power_of_Number:\n",
    "    def power(self, x, n):\n",
    "        if x==0 or x==1 or n==1:\n",
    "            return x \n",
    "        l = self.power(x,n//2)\n",
    "        if n%2 ==0:\n",
    "            return l*l\n",
    "        return l*l*x"
   ]
  },
  {
   "cell_type": "code",
   "execution_count": 35,
   "id": "b78ec4eb",
   "metadata": {},
   "outputs": [
    {
     "name": "stdout",
     "output_type": "stream",
     "text": [
      "100\n"
     ]
    }
   ],
   "source": [
    "print(Power_of_Number().power(10,2))"
   ]
  },
  {
   "cell_type": "code",
   "execution_count": null,
   "id": "df88c1c7",
   "metadata": {},
   "outputs": [],
   "source": []
  },
  {
   "cell_type": "code",
   "execution_count": null,
   "id": "d55db86c",
   "metadata": {},
   "outputs": [],
   "source": []
  },
  {
   "cell_type": "code",
   "execution_count": null,
   "id": "919deb5c",
   "metadata": {},
   "outputs": [],
   "source": []
  },
  {
   "cell_type": "code",
   "execution_count": null,
   "id": "7a2215e0",
   "metadata": {},
   "outputs": [],
   "source": [
    "Write a Python class to implement pow(x, n)\n",
    "Explanation:\n",
    "Use should be able to find the nth power of the x.(i.e x*x*x*x...n times)\n",
    "You must implement it using Class\n",
    "Sample Input:\n",
    "x: 10\n",
    "n: -2\n",
    "Sample Output:\n",
    "0.01"
   ]
  },
  {
   "cell_type": "code",
   "execution_count": 36,
   "id": "7fa3615f",
   "metadata": {},
   "outputs": [],
   "source": [
    "class Power_of_Number:\n",
    "    def power(self, x, n):\n",
    "        if x==0 or x==1 or n==1:\n",
    "            return x \n",
    "        if x==-1:\n",
    "            if n%2 ==0:\n",
    "                return 1\n",
    "            else:\n",
    "                return -1\n",
    "        if n==0:\n",
    "            return 1\n",
    "        if n<0:\n",
    "            return 1/self.power(x,-n)\n",
    "        l = self.power(x,n//2)\n",
    "        if n%2 ==0:\n",
    "            return l*l\n",
    "        return l*l*x"
   ]
  },
  {
   "cell_type": "code",
   "execution_count": 37,
   "id": "171cef95",
   "metadata": {},
   "outputs": [
    {
     "name": "stdout",
     "output_type": "stream",
     "text": [
      "0.01\n"
     ]
    }
   ],
   "source": [
    "print(Power_of_Number().power(10,-2))"
   ]
  },
  {
   "cell_type": "code",
   "execution_count": null,
   "id": "33c07c0a",
   "metadata": {},
   "outputs": [],
   "source": []
  }
 ],
 "metadata": {
  "kernelspec": {
   "display_name": "Python 3 (ipykernel)",
   "language": "python",
   "name": "python3"
  },
  "language_info": {
   "codemirror_mode": {
    "name": "ipython",
    "version": 3
   },
   "file_extension": ".py",
   "mimetype": "text/x-python",
   "name": "python",
   "nbconvert_exporter": "python",
   "pygments_lexer": "ipython3",
   "version": "3.10.0"
  },
  "varInspector": {
   "cols": {
    "lenName": 16,
    "lenType": 16,
    "lenVar": 40
   },
   "kernels_config": {
    "python": {
     "delete_cmd_postfix": "",
     "delete_cmd_prefix": "del ",
     "library": "var_list.py",
     "varRefreshCmd": "print(var_dic_list())"
    },
    "r": {
     "delete_cmd_postfix": ") ",
     "delete_cmd_prefix": "rm(",
     "library": "var_list.r",
     "varRefreshCmd": "cat(var_dic_list()) "
    }
   },
   "types_to_exclude": [
    "module",
    "function",
    "builtin_function_or_method",
    "instance",
    "_Feature"
   ],
   "window_display": false
  }
 },
 "nbformat": 4,
 "nbformat_minor": 5
}
