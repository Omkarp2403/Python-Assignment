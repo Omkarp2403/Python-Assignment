{
 "cells": [
  {
   "cell_type": "markdown",
   "id": "464a8976",
   "metadata": {},
   "source": [
    "Write a Python function to sum all the numbers in a list.\n",
    "Sample List : (8, 2, 3, 0, 7)\n",
    "Expected Output : 20\n",
    "Explanation:\n",
    "Summation should like 8+2+3+0+7 = 20\n"
   ]
  },
  {
   "cell_type": "code",
   "execution_count": 14,
   "id": "9aa73a41",
   "metadata": {},
   "outputs": [],
   "source": [
    "def sum(numbers):\n",
    "     total=0\n",
    "     for x in numbers:\n",
    "        total += x\n",
    "     return total"
   ]
  },
  {
   "cell_type": "code",
   "execution_count": 15,
   "id": "0077bf67",
   "metadata": {},
   "outputs": [
    {
     "data": {
      "text/plain": [
       "20"
      ]
     },
     "execution_count": 15,
     "metadata": {},
     "output_type": "execute_result"
    }
   ],
   "source": [
    "sum((8,2,3,0,7))"
   ]
  },
  {
   "cell_type": "code",
   "execution_count": null,
   "id": "8ee113c0",
   "metadata": {},
   "outputs": [],
   "source": []
  }
 ],
 "metadata": {
  "kernelspec": {
   "display_name": "Python 3 (ipykernel)",
   "language": "python",
   "name": "python3"
  },
  "language_info": {
   "codemirror_mode": {
    "name": "ipython",
    "version": 3
   },
   "file_extension": ".py",
   "mimetype": "text/x-python",
   "name": "python",
   "nbconvert_exporter": "python",
   "pygments_lexer": "ipython3",
   "version": "3.10.0"
  }
 },
 "nbformat": 4,
 "nbformat_minor": 5
}
